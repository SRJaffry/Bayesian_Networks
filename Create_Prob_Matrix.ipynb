{
 "cells": [
  {
   "cell_type": "code",
   "execution_count": 1,
   "id": "5847917e-ed9b-4ab1-b7c9-d822cc834933",
   "metadata": {
    "tags": []
   },
   "outputs": [],
   "source": [
    "import statsmodels.formula.api as smf\n",
    "import pandas as pd\n",
    "import numpy as np\n",
    "\n",
    "%matplotlib inline\n",
    "import matplotlib.pyplot as plt\n",
    "from matplotlib.pyplot import figure\n",
    "import seaborn as sns\n",
    "\n",
    "from utils import *"
   ]
  },
  {
   "cell_type": "code",
   "execution_count": null,
   "id": "39d9e04d-de04-47dd-9589-30ad0f703e46",
   "metadata": {},
   "outputs": [],
   "source": [
    "# path = 'ns3NewData_/kpis_rand_maxbuff2500_01ms_ISD150_0speed_NewPL_20UEs.csv'\n",
    "path = 'real_world_data/data_ready_ML.csv'\n",
    "dfx = pd.read_csv(path).dropna()\n",
    "dfx.drop(columns='PDCP_Thruput_DL', inplace =True)\n",
    "\n",
    "df = dfx.copy()\n",
    "\n",
    "# Create Binned Data as states 0,1,2,3 \n",
    "df_binned = data_binning(df, binning_type = 1, bin_all_params = True)\n",
    "\n",
    "# Remove non-binned (real) data\n",
    "df = df_binned.copy()\n",
    "df.drop(columns=['RSRP', 'RSRQ', 'RSSI'], inplace = True)\n",
    "col_vector_P_matrix = ['RSRP_binned', 'RSRQ_binned', 'RSSI_binned', 'PCC_SINR_binned', 'PCC_PHY_Thruput_DL_binned']\n",
    "\n",
    "Prob_matrix = create_Prob_matrix(df, col_vector_P_matrix)\n",
    "Prob_matrix"
   ]
  },
  {
   "cell_type": "code",
   "execution_count": null,
   "id": "b8927678-2106-4b34-be82-e0042d8f628e",
   "metadata": {},
   "outputs": [],
   "source": [
    "df_binned.corr()"
   ]
  },
  {
   "cell_type": "code",
   "execution_count": null,
   "id": "ff944933-3640-4c80-941e-38982f3ad81b",
   "metadata": {},
   "outputs": [],
   "source": [
    "# dfx.drop(columns = 'PDCP_Thruput_DL', inplace = True)\n",
    "# _ = dfx[['RSRP', 'RSRQ', 'RSSI']].plot(kind = 'hist', bins = 100, subplots = True, figsize = (20,10))\n",
    "# _ = dfx[['PCC_SINR']].plot(kind = 'hist', bins = 10, subplots = True, figsize = (5,5))\n",
    "_ = dfx[['PCC_PHY_Thruput_DL']].plot(kind = 'hist', bins = 10, subplots = True, figsize = (5,5))"
   ]
  },
  {
   "cell_type": "code",
   "execution_count": null,
   "id": "3fe256f4-3fae-4251-88f5-94ef23b2b57b",
   "metadata": {},
   "outputs": [],
   "source": [
    "Prob_matrix['RSRP x RSRQ'] = Prob_matrix['P(RSRP_binned)']*Prob_matrix['P(RSRQ_binned)']"
   ]
  },
  {
   "cell_type": "code",
   "execution_count": null,
   "id": "4b39581b-30a1-4457-9584-8794fb919ae0",
   "metadata": {},
   "outputs": [],
   "source": [
    "Prob_matrix['RSRP x RSRQ'] = Prob_matrix['P(RSRP_binned)']*Prob_matrix['P(RSRQ_binned)']\n",
    "Prob_matrix"
   ]
  },
  {
   "cell_type": "code",
   "execution_count": null,
   "id": "56e7e2a2-a540-40ea-b644-9c00e09fb9b8",
   "metadata": {
    "tags": []
   },
   "outputs": [],
   "source": [
    "df = df_binned.copy()\n",
    "plt.figure()\n",
    "plt.scatter(df.RSRP_binned.values, df.RSRP.values)\n",
    "plt.title('RSRP')\n",
    "\n",
    "plt.figure()\n",
    "plt.scatter(df.PCC_SINR_binned.values, df.PCC_SINR)\n",
    "plt.title('SINR')\n",
    "\n",
    "plt.figure()\n",
    "plt.scatter(df.PCC_PHY_Thruput_DL_binned.values, df.PCC_PHY_Thruput_DL)\n",
    "plt.title('Thruput')"
   ]
  },
  {
   "cell_type": "code",
   "execution_count": null,
   "id": "0e0fd138-48c9-4eb7-9cbd-4620aa1ab900",
   "metadata": {},
   "outputs": [],
   "source": [
    "print(df['PCC_SINR_binned'].value_counts())\n",
    "A = df.PCC_SINR.plot(kind = 'hist', bins = 4)"
   ]
  },
  {
   "cell_type": "code",
   "execution_count": null,
   "id": "f4f8cca2-b260-4472-b192-1bec7b98f21c",
   "metadata": {},
   "outputs": [],
   "source": [
    "df_prob = df.copy()\n",
    "\n",
    "def cal_Ind_Prob(arr):\n",
    "    df_temp = df[df.PCC_SINR_binned == 0]\n",
    "    len[df_temp]/len(df)\n",
    "    "
   ]
  },
  {
   "cell_type": "code",
   "execution_count": null,
   "id": "92d33684-9f2d-42d2-a663-5b3976673dce",
   "metadata": {
    "tags": []
   },
   "outputs": [],
   "source": [
    "df_temp = df[df.PCC_SINR_binned == 3]\n",
    "len(df_temp)/len(df)"
   ]
  },
  {
   "cell_type": "code",
   "execution_count": null,
   "id": "ce5634bb-494f-4311-8fd8-eb0824c2ab27",
   "metadata": {},
   "outputs": [],
   "source": [
    "df['RSRP_binned'].value_counts()"
   ]
  },
  {
   "attachments": {
    "8c90b83f-03df-4ebb-a8d0-89777ce944b0.png": {
     "image/png": "[encoded data removed]"
    }
   },
   "cell_type": "markdown",
   "id": "a0cc75cc-f698-4aa6-8d17-af544acb7c63",
   "metadata": {
    "tags": []
   },
   "source": [
    "# Trying to segmentize RSRP RSSI, RSRQ based on channel conditions.\n",
    "In the part above, we segmentize using pd.cut(). But in the following, there are some RF-rules based on which awe segmentize the RSRP,RSRQ and SINR.\n",
    "\n",
    "![image.png](attachment:8c90b83f-03df-4ebb-a8d0-89777ce944b0.png)\n",
    "\n",
    "### N_RBs = RSRQ*RSSI/RSRP"
   ]
  },
  {
   "cell_type": "code",
   "execution_count": 2,
   "id": "2321a41c-f387-4000-a6a0-7a17a4bbb4a8",
   "metadata": {},
   "outputs": [
    {
     "data": {
      "text/html": [
       "<div>\n",
       "<style scoped>\n",
       "    .dataframe tbody tr th:only-of-type {\n",
       "        vertical-align: middle;\n",
       "    }\n",
       "\n",
       "    .dataframe tbody tr th {\n",
       "        vertical-align: top;\n",
       "    }\n",
       "\n",
       "    .dataframe thead th {\n",
       "        text-align: right;\n",
       "    }\n",
       "</style>\n",
       "<table border=\"1\" class=\"dataframe\">\n",
       "  <thead>\n",
       "    <tr style=\"text-align: right;\">\n",
       "      <th></th>\n",
       "      <th>N_RBs</th>\n",
       "      <th>RSRP</th>\n",
       "      <th>RSRQ</th>\n",
       "      <th>RSSI</th>\n",
       "      <th>PCC_SINR</th>\n",
       "      <th>PCC_PHY_Thruput_DL</th>\n",
       "    </tr>\n",
       "  </thead>\n",
       "  <tbody>\n",
       "    <tr>\n",
       "      <th>0</th>\n",
       "      <td>15</td>\n",
       "      <td>-70.77</td>\n",
       "      <td>-8.66</td>\n",
       "      <td>-48.02</td>\n",
       "      <td>7.83</td>\n",
       "      <td>8737.41</td>\n",
       "    </tr>\n",
       "    <tr>\n",
       "      <th>1</th>\n",
       "      <td>15</td>\n",
       "      <td>-72.40</td>\n",
       "      <td>-10.56</td>\n",
       "      <td>-47.17</td>\n",
       "      <td>4.95</td>\n",
       "      <td>6969.09</td>\n",
       "    </tr>\n",
       "    <tr>\n",
       "      <th>2</th>\n",
       "      <td>15</td>\n",
       "      <td>-71.32</td>\n",
       "      <td>-10.13</td>\n",
       "      <td>-47.11</td>\n",
       "      <td>5.65</td>\n",
       "      <td>3874.06</td>\n",
       "    </tr>\n",
       "    <tr>\n",
       "      <th>3</th>\n",
       "      <td>15</td>\n",
       "      <td>-69.92</td>\n",
       "      <td>-9.62</td>\n",
       "      <td>-46.18</td>\n",
       "      <td>6.95</td>\n",
       "      <td>5575.82</td>\n",
       "    </tr>\n",
       "    <tr>\n",
       "      <th>4</th>\n",
       "      <td>15</td>\n",
       "      <td>-72.43</td>\n",
       "      <td>-10.30</td>\n",
       "      <td>-47.74</td>\n",
       "      <td>4.28</td>\n",
       "      <td>6114.99</td>\n",
       "    </tr>\n",
       "  </tbody>\n",
       "</table>\n",
       "</div>"
      ],
      "text/plain": [
       "   N_RBs   RSRP   RSRQ   RSSI  PCC_SINR  PCC_PHY_Thruput_DL\n",
       "0     15 -70.77  -8.66 -48.02      7.83             8737.41\n",
       "1     15 -72.40 -10.56 -47.17      4.95             6969.09\n",
       "2     15 -71.32 -10.13 -47.11      5.65             3874.06\n",
       "3     15 -69.92  -9.62 -46.18      6.95             5575.82\n",
       "4     15 -72.43 -10.30 -47.74      4.28             6114.99"
      ]
     },
     "execution_count": 2,
     "metadata": {},
     "output_type": "execute_result"
    }
   ],
   "source": [
    "# path = 'ns3NewData_/kpis_rand_maxbuff2500_01ms_ISD150_0speed_NewPL_20UEs.csv'\n",
    "path = 'real_world_data/data_ready_ML.csv'\n",
    "dfx = pd.read_csv(path).dropna()\n",
    "dfx.drop(columns='PDCP_Thruput_DL', inplace =True)\n",
    "\n",
    "# N = RSRQ*RSSI/RSRP => RSRQ+RSSI - RSRP\n",
    "N = np.ceil(dfx['RSRQ']+dfx['RSSI']-dfx['RSRP']).astype(int)\n",
    "dfx.insert(0, 'N_RBs', N)\n",
    "\n",
    "# RSSI_new = dfx.RSRP - dfx.RSRQ # Removing the number of RBs. \n",
    "# dfx.insert(4, 'RSSI_new', RSSI_new)\n",
    "\n",
    "dfx.head()"
   ]
  },
  {
   "cell_type": "code",
   "execution_count": null,
   "id": "df3c3ed8-9816-4d32-9930-158ed2e6feb8",
   "metadata": {},
   "outputs": [],
   "source": [
    "dfx.plot(x = 'RSRP', y = 'RSSI', kind = 'scatter')"
   ]
  },
  {
   "cell_type": "code",
   "execution_count": null,
   "id": "46684771-d866-45a0-b83a-e7325d6801f3",
   "metadata": {},
   "outputs": [],
   "source": [
    "dfx.PCC_PHY_Thruput_DL.plot(kind = 'hist', bins = 50)"
   ]
  }
 ],
 "metadata": {
  "kernelspec": {
   "display_name": "Python 3 (ipykernel)",
   "language": "python",
   "name": "python3"
  },
  "language_info": {
   "codemirror_mode": {
    "name": "ipython",
    "version": 3
   },
   "file_extension": ".py",
   "mimetype": "text/x-python",
   "name": "python",
   "nbconvert_exporter": "python",
   "pygments_lexer": "ipython3",
   "version": "3.9.5"
  }
 },
 "nbformat": 4,
 "nbformat_minor": 5
}
