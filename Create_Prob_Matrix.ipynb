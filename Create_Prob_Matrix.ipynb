{
 "cells": [
  {
   "cell_type": "code",
   "execution_count": 1,
   "id": "5847917e-ed9b-4ab1-b7c9-d822cc834933",
   "metadata": {
    "tags": []
   },
   "outputs": [],
   "source": [
    "import statsmodels.formula.api as smf\n",
    "import pandas as pd\n",
    "import numpy as np\n",
    "\n",
    "%matplotlib inline\n",
    "import matplotlib.pyplot as plt\n",
    "from matplotlib.pyplot import figure\n",
    "import seaborn as sns\n",
    "\n",
    "from utils import *"
   ]
  },
  {
   "cell_type": "code",
   "execution_count": 2,
   "id": "39d9e04d-de04-47dd-9589-30ad0f703e46",
   "metadata": {},
   "outputs": [
    {
     "name": "stdout",
     "output_type": "stream",
     "text": [
      "Creating P() Col: P(RSRP_binned)\n",
      "Creating P() Col: P(RSRQ_binned)\n",
      "Creating P() Col: P(RSSI_binned)\n",
      "Creating P() Col: P(PCC_SINR_binned)\n",
      "Creating P() Col: P(PCC_PHY_Thruput_DL_binned)\n"
     ]
    },
    {
     "data": {
      "text/html": [
       "<div>\n",
       "<style scoped>\n",
       "    .dataframe tbody tr th:only-of-type {\n",
       "        vertical-align: middle;\n",
       "    }\n",
       "\n",
       "    .dataframe tbody tr th {\n",
       "        vertical-align: top;\n",
       "    }\n",
       "\n",
       "    .dataframe thead th {\n",
       "        text-align: right;\n",
       "    }\n",
       "</style>\n",
       "<table border=\"1\" class=\"dataframe\">\n",
       "  <thead>\n",
       "    <tr style=\"text-align: right;\">\n",
       "      <th></th>\n",
       "      <th>P(RSRP_binned)</th>\n",
       "      <th>P(RSRQ_binned)</th>\n",
       "      <th>P(RSSI_binned)</th>\n",
       "      <th>P(PCC_SINR_binned)</th>\n",
       "      <th>P(PCC_PHY_Thruput_DL_binned)</th>\n",
       "    </tr>\n",
       "  </thead>\n",
       "  <tbody>\n",
       "    <tr>\n",
       "      <th>0</th>\n",
       "      <td>0.630418</td>\n",
       "      <td>0.871552</td>\n",
       "      <td>0.520095</td>\n",
       "      <td>0.476753</td>\n",
       "      <td>0.494090</td>\n",
       "    </tr>\n",
       "    <tr>\n",
       "      <th>1</th>\n",
       "      <td>0.184397</td>\n",
       "      <td>0.057526</td>\n",
       "      <td>0.285264</td>\n",
       "      <td>0.359338</td>\n",
       "      <td>0.437352</td>\n",
       "    </tr>\n",
       "    <tr>\n",
       "      <th>2</th>\n",
       "      <td>0.095351</td>\n",
       "      <td>0.043341</td>\n",
       "      <td>0.111111</td>\n",
       "      <td>0.087470</td>\n",
       "      <td>0.064618</td>\n",
       "    </tr>\n",
       "    <tr>\n",
       "      <th>3</th>\n",
       "      <td>0.089835</td>\n",
       "      <td>0.027581</td>\n",
       "      <td>0.083530</td>\n",
       "      <td>0.076438</td>\n",
       "      <td>0.003940</td>\n",
       "    </tr>\n",
       "  </tbody>\n",
       "</table>\n",
       "</div>"
      ],
      "text/plain": [
       "   P(RSRP_binned)  P(RSRQ_binned)  P(RSSI_binned)  P(PCC_SINR_binned)  \\\n",
       "0        0.630418        0.871552        0.520095            0.476753   \n",
       "1        0.184397        0.057526        0.285264            0.359338   \n",
       "2        0.095351        0.043341        0.111111            0.087470   \n",
       "3        0.089835        0.027581        0.083530            0.076438   \n",
       "\n",
       "   P(PCC_PHY_Thruput_DL_binned)  \n",
       "0                      0.494090  \n",
       "1                      0.437352  \n",
       "2                      0.064618  \n",
       "3                      0.003940  "
      ]
     },
     "execution_count": 2,
     "metadata": {},
     "output_type": "execute_result"
    }
   ],
   "source": [
    "# path = 'ns3NewData_/kpis_rand_maxbuff2500_01ms_ISD150_0speed_NewPL_20UEs.csv'\n",
    "path = 'real_world_data/data_ready_ML.csv'\n",
    "dfx = pd.read_csv(path).dropna()\n",
    "dfx.drop(columns='PDCP_Thruput_DL', inplace =True)\n",
    "\n",
    "df = dfx.copy()\n",
    "\n",
    "# Create Binned Data as states 0,1,2,3 \n",
    "df_binned = data_binning(df, binning_type = 1, bin_all_params = True)\n",
    "\n",
    "# Remove non-binned (real) data\n",
    "df = df_binned.copy()\n",
    "df.drop(columns=['RSRP', 'RSRQ', 'RSSI'], inplace = True)\n",
    "col_vector_P_matrix = ['RSRP_binned', 'RSRQ_binned', 'RSSI_binned', 'PCC_SINR_binned', 'PCC_PHY_Thruput_DL_binned']\n",
    "\n",
    "Prob_matrix = create_Prob_matrix(df, col_vector_P_matrix)\n",
    "Prob_matrix"
   ]
  },
  {
   "cell_type": "code",
   "execution_count": 5,
   "id": "b8927678-2106-4b34-be82-e0042d8f628e",
   "metadata": {},
   "outputs": [
    {
     "data": {
      "text/html": [
       "<div>\n",
       "<style scoped>\n",
       "    .dataframe tbody tr th:only-of-type {\n",
       "        vertical-align: middle;\n",
       "    }\n",
       "\n",
       "    .dataframe tbody tr th {\n",
       "        vertical-align: top;\n",
       "    }\n",
       "\n",
       "    .dataframe thead th {\n",
       "        text-align: right;\n",
       "    }\n",
       "</style>\n",
       "<table border=\"1\" class=\"dataframe\">\n",
       "  <thead>\n",
       "    <tr style=\"text-align: right;\">\n",
       "      <th></th>\n",
       "      <th>RSRP</th>\n",
       "      <th>RSRQ</th>\n",
       "      <th>RSSI</th>\n",
       "      <th>PCC_SINR</th>\n",
       "      <th>PCC_PHY_Thruput_DL</th>\n",
       "      <th>RSRP_binned</th>\n",
       "      <th>RSRQ_binned</th>\n",
       "      <th>RSSI_binned</th>\n",
       "      <th>PCC_SINR_binned</th>\n",
       "      <th>PCC_PHY_Thruput_DL_binned</th>\n",
       "    </tr>\n",
       "  </thead>\n",
       "  <tbody>\n",
       "    <tr>\n",
       "      <th>RSRP</th>\n",
       "      <td>1.000000</td>\n",
       "      <td>0.524453</td>\n",
       "      <td>0.981058</td>\n",
       "      <td>0.765067</td>\n",
       "      <td>0.708951</td>\n",
       "      <td>0.939732</td>\n",
       "      <td>0.435954</td>\n",
       "      <td>0.921286</td>\n",
       "      <td>0.714996</td>\n",
       "      <td>0.607639</td>\n",
       "    </tr>\n",
       "    <tr>\n",
       "      <th>RSRQ</th>\n",
       "      <td>0.524453</td>\n",
       "      <td>1.000000</td>\n",
       "      <td>0.350579</td>\n",
       "      <td>0.740846</td>\n",
       "      <td>0.477885</td>\n",
       "      <td>0.468292</td>\n",
       "      <td>0.910131</td>\n",
       "      <td>0.314536</td>\n",
       "      <td>0.661273</td>\n",
       "      <td>0.333345</td>\n",
       "    </tr>\n",
       "    <tr>\n",
       "      <th>RSSI</th>\n",
       "      <td>0.981058</td>\n",
       "      <td>0.350579</td>\n",
       "      <td>1.000000</td>\n",
       "      <td>0.671356</td>\n",
       "      <td>0.667325</td>\n",
       "      <td>0.927111</td>\n",
       "      <td>0.273763</td>\n",
       "      <td>0.941989</td>\n",
       "      <td>0.634839</td>\n",
       "      <td>0.589840</td>\n",
       "    </tr>\n",
       "    <tr>\n",
       "      <th>PCC_SINR</th>\n",
       "      <td>0.765067</td>\n",
       "      <td>0.740846</td>\n",
       "      <td>0.671356</td>\n",
       "      <td>1.000000</td>\n",
       "      <td>0.862331</td>\n",
       "      <td>0.699859</td>\n",
       "      <td>0.580977</td>\n",
       "      <td>0.626899</td>\n",
       "      <td>0.925789</td>\n",
       "      <td>0.735961</td>\n",
       "    </tr>\n",
       "    <tr>\n",
       "      <th>PCC_PHY_Thruput_DL</th>\n",
       "      <td>0.708951</td>\n",
       "      <td>0.477885</td>\n",
       "      <td>0.667325</td>\n",
       "      <td>0.862331</td>\n",
       "      <td>1.000000</td>\n",
       "      <td>0.664045</td>\n",
       "      <td>0.313962</td>\n",
       "      <td>0.635982</td>\n",
       "      <td>0.806095</td>\n",
       "      <td>0.865616</td>\n",
       "    </tr>\n",
       "    <tr>\n",
       "      <th>RSRP_binned</th>\n",
       "      <td>0.939732</td>\n",
       "      <td>0.468292</td>\n",
       "      <td>0.927111</td>\n",
       "      <td>0.699859</td>\n",
       "      <td>0.664045</td>\n",
       "      <td>1.000000</td>\n",
       "      <td>0.397757</td>\n",
       "      <td>0.852844</td>\n",
       "      <td>0.631757</td>\n",
       "      <td>0.552945</td>\n",
       "    </tr>\n",
       "    <tr>\n",
       "      <th>RSRQ_binned</th>\n",
       "      <td>0.435954</td>\n",
       "      <td>0.910131</td>\n",
       "      <td>0.273763</td>\n",
       "      <td>0.580977</td>\n",
       "      <td>0.313962</td>\n",
       "      <td>0.397757</td>\n",
       "      <td>1.000000</td>\n",
       "      <td>0.234166</td>\n",
       "      <td>0.508999</td>\n",
       "      <td>0.186993</td>\n",
       "    </tr>\n",
       "    <tr>\n",
       "      <th>RSSI_binned</th>\n",
       "      <td>0.921286</td>\n",
       "      <td>0.314536</td>\n",
       "      <td>0.941989</td>\n",
       "      <td>0.626899</td>\n",
       "      <td>0.635982</td>\n",
       "      <td>0.852844</td>\n",
       "      <td>0.234166</td>\n",
       "      <td>1.000000</td>\n",
       "      <td>0.615776</td>\n",
       "      <td>0.577059</td>\n",
       "    </tr>\n",
       "    <tr>\n",
       "      <th>PCC_SINR_binned</th>\n",
       "      <td>0.714996</td>\n",
       "      <td>0.661273</td>\n",
       "      <td>0.634839</td>\n",
       "      <td>0.925789</td>\n",
       "      <td>0.806095</td>\n",
       "      <td>0.631757</td>\n",
       "      <td>0.508999</td>\n",
       "      <td>0.615776</td>\n",
       "      <td>1.000000</td>\n",
       "      <td>0.740227</td>\n",
       "    </tr>\n",
       "    <tr>\n",
       "      <th>PCC_PHY_Thruput_DL_binned</th>\n",
       "      <td>0.607639</td>\n",
       "      <td>0.333345</td>\n",
       "      <td>0.589840</td>\n",
       "      <td>0.735961</td>\n",
       "      <td>0.865616</td>\n",
       "      <td>0.552945</td>\n",
       "      <td>0.186993</td>\n",
       "      <td>0.577059</td>\n",
       "      <td>0.740227</td>\n",
       "      <td>1.000000</td>\n",
       "    </tr>\n",
       "  </tbody>\n",
       "</table>\n",
       "</div>"
      ],
      "text/plain": [
       "                               RSRP      RSRQ      RSSI  PCC_SINR  \\\n",
       "RSRP                       1.000000  0.524453  0.981058  0.765067   \n",
       "RSRQ                       0.524453  1.000000  0.350579  0.740846   \n",
       "RSSI                       0.981058  0.350579  1.000000  0.671356   \n",
       "PCC_SINR                   0.765067  0.740846  0.671356  1.000000   \n",
       "PCC_PHY_Thruput_DL         0.708951  0.477885  0.667325  0.862331   \n",
       "RSRP_binned                0.939732  0.468292  0.927111  0.699859   \n",
       "RSRQ_binned                0.435954  0.910131  0.273763  0.580977   \n",
       "RSSI_binned                0.921286  0.314536  0.941989  0.626899   \n",
       "PCC_SINR_binned            0.714996  0.661273  0.634839  0.925789   \n",
       "PCC_PHY_Thruput_DL_binned  0.607639  0.333345  0.589840  0.735961   \n",
       "\n",
       "                           PCC_PHY_Thruput_DL  RSRP_binned  RSRQ_binned  \\\n",
       "RSRP                                 0.708951     0.939732     0.435954   \n",
       "RSRQ                                 0.477885     0.468292     0.910131   \n",
       "RSSI                                 0.667325     0.927111     0.273763   \n",
       "PCC_SINR                             0.862331     0.699859     0.580977   \n",
       "PCC_PHY_Thruput_DL                   1.000000     0.664045     0.313962   \n",
       "RSRP_binned                          0.664045     1.000000     0.397757   \n",
       "RSRQ_binned                          0.313962     0.397757     1.000000   \n",
       "RSSI_binned                          0.635982     0.852844     0.234166   \n",
       "PCC_SINR_binned                      0.806095     0.631757     0.508999   \n",
       "PCC_PHY_Thruput_DL_binned            0.865616     0.552945     0.186993   \n",
       "\n",
       "                           RSSI_binned  PCC_SINR_binned  \\\n",
       "RSRP                          0.921286         0.714996   \n",
       "RSRQ                          0.314536         0.661273   \n",
       "RSSI                          0.941989         0.634839   \n",
       "PCC_SINR                      0.626899         0.925789   \n",
       "PCC_PHY_Thruput_DL            0.635982         0.806095   \n",
       "RSRP_binned                   0.852844         0.631757   \n",
       "RSRQ_binned                   0.234166         0.508999   \n",
       "RSSI_binned                   1.000000         0.615776   \n",
       "PCC_SINR_binned               0.615776         1.000000   \n",
       "PCC_PHY_Thruput_DL_binned     0.577059         0.740227   \n",
       "\n",
       "                           PCC_PHY_Thruput_DL_binned  \n",
       "RSRP                                        0.607639  \n",
       "RSRQ                                        0.333345  \n",
       "RSSI                                        0.589840  \n",
       "PCC_SINR                                    0.735961  \n",
       "PCC_PHY_Thruput_DL                          0.865616  \n",
       "RSRP_binned                                 0.552945  \n",
       "RSRQ_binned                                 0.186993  \n",
       "RSSI_binned                                 0.577059  \n",
       "PCC_SINR_binned                             0.740227  \n",
       "PCC_PHY_Thruput_DL_binned                   1.000000  "
      ]
     },
     "execution_count": 5,
     "metadata": {},
     "output_type": "execute_result"
    }
   ],
   "source": [
    "df_binned.corr()"
   ]
  },
  {
   "cell_type": "code",
   "execution_count": 6,
   "id": "ff944933-3640-4c80-941e-38982f3ad81b",
   "metadata": {},
   "outputs": [
    {
     "data": {
      "image/png": "[encoded data removed]",
      "text/plain": [
       "<Figure size 360x360 with 1 Axes>"
      ]
     },
     "metadata": {
      "needs_background": "light"
     },
     "output_type": "display_data"
    }
   ],
   "source": [
    "# dfx.drop(columns = 'PDCP_Thruput_DL', inplace = True)\n",
    "# _ = dfx[['RSRP', 'RSRQ', 'RSSI']].plot(kind = 'hist', bins = 100, subplots = True, figsize = (20,10))\n",
    "# _ = dfx[['PCC_SINR']].plot(kind = 'hist', bins = 10, subplots = True, figsize = (5,5))\n",
    "_ = dfx[['PCC_PHY_Thruput_DL']].plot(kind = 'hist', bins = 10, subplots = True, figsize = (5,5))"
   ]
  },
  {
   "cell_type": "code",
   "execution_count": 7,
   "id": "3fe256f4-3fae-4251-88f5-94ef23b2b57b",
   "metadata": {},
   "outputs": [],
   "source": [
    "Prob_matrix['RSRP x RSRQ'] = Prob_matrix['P(RSRP_binned)']*Prob_matrix['P(RSRQ_binned)']"
   ]
  },
  {
   "cell_type": "code",
   "execution_count": 8,
   "id": "4b39581b-30a1-4457-9584-8794fb919ae0",
   "metadata": {},
   "outputs": [
    {
     "data": {
      "text/html": [
       "<div>\n",
       "<style scoped>\n",
       "    .dataframe tbody tr th:only-of-type {\n",
       "        vertical-align: middle;\n",
       "    }\n",
       "\n",
       "    .dataframe tbody tr th {\n",
       "        vertical-align: top;\n",
       "    }\n",
       "\n",
       "    .dataframe thead th {\n",
       "        text-align: right;\n",
       "    }\n",
       "</style>\n",
       "<table border=\"1\" class=\"dataframe\">\n",
       "  <thead>\n",
       "    <tr style=\"text-align: right;\">\n",
       "      <th></th>\n",
       "      <th>P(RSRP_binned)</th>\n",
       "      <th>P(RSRQ_binned)</th>\n",
       "      <th>P(RSSI_binned)</th>\n",
       "      <th>P(PCC_SINR_binned)</th>\n",
       "      <th>P(PCC_PHY_Thruput_DL_binned)</th>\n",
       "      <th>RSRP x RSRQ</th>\n",
       "    </tr>\n",
       "  </thead>\n",
       "  <tbody>\n",
       "    <tr>\n",
       "      <th>0</th>\n",
       "      <td>0.630418</td>\n",
       "      <td>0.871552</td>\n",
       "      <td>0.520095</td>\n",
       "      <td>0.476753</td>\n",
       "      <td>0.494090</td>\n",
       "      <td>0.549442</td>\n",
       "    </tr>\n",
       "    <tr>\n",
       "      <th>1</th>\n",
       "      <td>0.184397</td>\n",
       "      <td>0.057526</td>\n",
       "      <td>0.285264</td>\n",
       "      <td>0.359338</td>\n",
       "      <td>0.437352</td>\n",
       "      <td>0.010608</td>\n",
       "    </tr>\n",
       "    <tr>\n",
       "      <th>2</th>\n",
       "      <td>0.095351</td>\n",
       "      <td>0.043341</td>\n",
       "      <td>0.111111</td>\n",
       "      <td>0.087470</td>\n",
       "      <td>0.064618</td>\n",
       "      <td>0.004133</td>\n",
       "    </tr>\n",
       "    <tr>\n",
       "      <th>3</th>\n",
       "      <td>0.089835</td>\n",
       "      <td>0.027581</td>\n",
       "      <td>0.083530</td>\n",
       "      <td>0.076438</td>\n",
       "      <td>0.003940</td>\n",
       "      <td>0.002478</td>\n",
       "    </tr>\n",
       "  </tbody>\n",
       "</table>\n",
       "</div>"
      ],
      "text/plain": [
       "   P(RSRP_binned)  P(RSRQ_binned)  P(RSSI_binned)  P(PCC_SINR_binned)  \\\n",
       "0        0.630418        0.871552        0.520095            0.476753   \n",
       "1        0.184397        0.057526        0.285264            0.359338   \n",
       "2        0.095351        0.043341        0.111111            0.087470   \n",
       "3        0.089835        0.027581        0.083530            0.076438   \n",
       "\n",
       "   P(PCC_PHY_Thruput_DL_binned)  RSRP x RSRQ  \n",
       "0                      0.494090     0.549442  \n",
       "1                      0.437352     0.010608  \n",
       "2                      0.064618     0.004133  \n",
       "3                      0.003940     0.002478  "
      ]
     },
     "execution_count": 8,
     "metadata": {},
     "output_type": "execute_result"
    }
   ],
   "source": [
    "Prob_matrix['RSRP x RSRQ'] = Prob_matrix['P(RSRP_binned)']*Prob_matrix['P(RSRQ_binned)']\n",
    "Prob_matrix"
   ]
  },
  {
   "cell_type": "code",
   "execution_count": 9,
   "id": "56e7e2a2-a540-40ea-b644-9c00e09fb9b8",
   "metadata": {
    "tags": []
   },
   "outputs": [
    {
     "data": {
      "text/plain": [
       "Text(0.5, 1.0, 'Thruput')"
      ]
     },
     "execution_count": 9,
     "metadata": {},
     "output_type": "execute_result"
    },
    {
     "data": {
      "image/png": "[encoded data removed]",
      "text/plain": [
       "<Figure size 432x288 with 1 Axes>"
      ]
     },
     "metadata": {
      "needs_background": "light"
     },
     "output_type": "display_data"
    },
    {
     "data": {
      "image/png": "[encoded data removed]",
      "text/plain": [
       "<Figure size 432x288 with 1 Axes>"
      ]
     },
     "metadata": {
      "needs_background": "light"
     },
     "output_type": "display_data"
    },
    {
     "data": {
      "image/png": "[encoded data removed]",
      "text/plain": [
       "<Figure size 432x288 with 1 Axes>"
      ]
     },
     "metadata": {
      "needs_background": "light"
     },
     "output_type": "display_data"
    }
   ],
   "source": [
    "df = df_binned.copy()\n",
    "plt.figure()\n",
    "plt.scatter(df.RSRP_binned.values, df.RSRP.values)\n",
    "plt.title('RSRP')\n",
    "\n",
    "plt.figure()\n",
    "plt.scatter(df.PCC_SINR_binned.values, df.PCC_SINR)\n",
    "plt.title('SINR')\n",
    "\n",
    "plt.figure()\n",
    "plt.scatter(df.PCC_PHY_Thruput_DL_binned.values, df.PCC_PHY_Thruput_DL)\n",
    "plt.title('Thruput')"
   ]
  },
  {
   "cell_type": "code",
   "execution_count": 10,
   "id": "0e0fd138-48c9-4eb7-9cbd-4620aa1ab900",
   "metadata": {},
   "outputs": [
    {
     "name": "stdout",
     "output_type": "stream",
     "text": [
      "2    605\n",
      "1    456\n",
      "0    111\n",
      "3     97\n",
      "Name: PCC_SINR_binned, dtype: int64\n"
     ]
    },
    {
     "data": {
      "image/png": "[encoded data removed]",
      "text/plain": [
       "<Figure size 432x288 with 1 Axes>"
      ]
     },
     "metadata": {
      "needs_background": "light"
     },
     "output_type": "display_data"
    }
   ],
   "source": [
    "print(df['PCC_SINR_binned'].value_counts())\n",
    "A = df.PCC_SINR.plot(kind = 'hist', bins = 4)"
   ]
  },
  {
   "cell_type": "code",
   "execution_count": 11,
   "id": "f4f8cca2-b260-4472-b192-1bec7b98f21c",
   "metadata": {},
   "outputs": [],
   "source": [
    "df_prob = df.copy()\n",
    "\n",
    "def cal_Ind_Prob(arr):\n",
    "    df_temp = df[df.PCC_SINR_binned == 0]\n",
    "    len[df_temp]/len(df)\n",
    "    "
   ]
  },
  {
   "cell_type": "code",
   "execution_count": null,
   "id": "92d33684-9f2d-42d2-a663-5b3976673dce",
   "metadata": {
    "tags": []
   },
   "outputs": [],
   "source": [
    "df_temp = df[df.PCC_SINR_binned == 3]\n",
    "len(df_temp)/len(df)"
   ]
  },
  {
   "cell_type": "code",
   "execution_count": null,
   "id": "ce5634bb-494f-4311-8fd8-eb0824c2ab27",
   "metadata": {},
   "outputs": [],
   "source": [
    "df['RSRP_binned'].value_counts()"
   ]
  },
  {
   "attachments": {
    "8c90b83f-03df-4ebb-a8d0-89777ce944b0.png": {
     "image/png": "[encoded data removed]"
    }
   },
   "cell_type": "markdown",
   "id": "a0cc75cc-f698-4aa6-8d17-af544acb7c63",
   "metadata": {
    "tags": []
   },
   "source": [
    "# Trying to segmentize RSRP RSSI, RSRQ based on channel conditions.\n",
    "In the part above, we segmentize using pd.cut(). But in the following, there are some RF-rules based on which awe segmentize the RSRP,RSRQ and SINR.\n",
    "\n",
    "![image.png](attachment:8c90b83f-03df-4ebb-a8d0-89777ce944b0.png)\n",
    "\n",
    "### N_RBs = RSRQ*RSSI/RSRP"
   ]
  },
  {
   "cell_type": "code",
   "execution_count": 12,
   "id": "2321a41c-f387-4000-a6a0-7a17a4bbb4a8",
   "metadata": {},
   "outputs": [
    {
     "data": {
      "text/html": [
       "<div>\n",
       "<style scoped>\n",
       "    .dataframe tbody tr th:only-of-type {\n",
       "        vertical-align: middle;\n",
       "    }\n",
       "\n",
       "    .dataframe tbody tr th {\n",
       "        vertical-align: top;\n",
       "    }\n",
       "\n",
       "    .dataframe thead th {\n",
       "        text-align: right;\n",
       "    }\n",
       "</style>\n",
       "<table border=\"1\" class=\"dataframe\">\n",
       "  <thead>\n",
       "    <tr style=\"text-align: right;\">\n",
       "      <th></th>\n",
       "      <th>N_RBs</th>\n",
       "      <th>RSRP</th>\n",
       "      <th>RSRQ</th>\n",
       "      <th>RSSI</th>\n",
       "      <th>PCC_SINR</th>\n",
       "      <th>PCC_PHY_Thruput_DL</th>\n",
       "    </tr>\n",
       "  </thead>\n",
       "  <tbody>\n",
       "    <tr>\n",
       "      <th>0</th>\n",
       "      <td>15</td>\n",
       "      <td>-70.77</td>\n",
       "      <td>-8.66</td>\n",
       "      <td>-48.02</td>\n",
       "      <td>7.83</td>\n",
       "      <td>8737.41</td>\n",
       "    </tr>\n",
       "    <tr>\n",
       "      <th>1</th>\n",
       "      <td>15</td>\n",
       "      <td>-72.40</td>\n",
       "      <td>-10.56</td>\n",
       "      <td>-47.17</td>\n",
       "      <td>4.95</td>\n",
       "      <td>6969.09</td>\n",
       "    </tr>\n",
       "    <tr>\n",
       "      <th>2</th>\n",
       "      <td>15</td>\n",
       "      <td>-71.32</td>\n",
       "      <td>-10.13</td>\n",
       "      <td>-47.11</td>\n",
       "      <td>5.65</td>\n",
       "      <td>3874.06</td>\n",
       "    </tr>\n",
       "    <tr>\n",
       "      <th>3</th>\n",
       "      <td>15</td>\n",
       "      <td>-69.92</td>\n",
       "      <td>-9.62</td>\n",
       "      <td>-46.18</td>\n",
       "      <td>6.95</td>\n",
       "      <td>5575.82</td>\n",
       "    </tr>\n",
       "    <tr>\n",
       "      <th>4</th>\n",
       "      <td>15</td>\n",
       "      <td>-72.43</td>\n",
       "      <td>-10.30</td>\n",
       "      <td>-47.74</td>\n",
       "      <td>4.28</td>\n",
       "      <td>6114.99</td>\n",
       "    </tr>\n",
       "  </tbody>\n",
       "</table>\n",
       "</div>"
      ],
      "text/plain": [
       "   N_RBs   RSRP   RSRQ   RSSI  PCC_SINR  PCC_PHY_Thruput_DL\n",
       "0     15 -70.77  -8.66 -48.02      7.83             8737.41\n",
       "1     15 -72.40 -10.56 -47.17      4.95             6969.09\n",
       "2     15 -71.32 -10.13 -47.11      5.65             3874.06\n",
       "3     15 -69.92  -9.62 -46.18      6.95             5575.82\n",
       "4     15 -72.43 -10.30 -47.74      4.28             6114.99"
      ]
     },
     "execution_count": 12,
     "metadata": {},
     "output_type": "execute_result"
    }
   ],
   "source": [
    "# path = 'ns3NewData_/kpis_rand_maxbuff2500_01ms_ISD150_0speed_NewPL_20UEs.csv'\n",
    "path = 'real_world_data/data_ready_ML.csv'\n",
    "dfx = pd.read_csv(path).dropna()\n",
    "dfx.drop(columns='PDCP_Thruput_DL', inplace =True)\n",
    "\n",
    "# N = RSRQ*RSSI/RSRP => RSRQ+RSSI - RSRP\n",
    "N = np.ceil(dfx['RSRQ']+dfx['RSSI']-dfx['RSRP']).astype(int)\n",
    "dfx.insert(0, 'N_RBs', N)\n",
    "\n",
    "# RSSI_new = dfx.RSRP - dfx.RSRQ # Removing the number of RBs. \n",
    "# dfx.insert(4, 'RSSI_new', RSSI_new)\n",
    "\n",
    "dfx.head()"
   ]
  },
  {
   "cell_type": "code",
   "execution_count": 14,
   "id": "df3c3ed8-9816-4d32-9930-158ed2e6feb8",
   "metadata": {},
   "outputs": [
    {
     "data": {
      "text/plain": [
       "<AxesSubplot:xlabel='RSRP', ylabel='RSSI'>"
      ]
     },
     "execution_count": 14,
     "metadata": {},
     "output_type": "execute_result"
    },
    {
     "data": {
      "image/png": "[encoded data removed]",
      "text/plain": [
       "<Figure size 432x288 with 1 Axes>"
      ]
     },
     "metadata": {
      "needs_background": "light"
     },
     "output_type": "display_data"
    }
   ],
   "source": [
    "dfx.plot(x = 'RSRP', y = 'RSSI', kind = 'scatter')"
   ]
  },
  {
   "cell_type": "code",
   "execution_count": 15,
   "id": "46684771-d866-45a0-b83a-e7325d6801f3",
   "metadata": {},
   "outputs": [
    {
     "data": {
      "text/plain": [
       "<AxesSubplot:ylabel='Frequency'>"
      ]
     },
     "execution_count": 15,
     "metadata": {},
     "output_type": "execute_result"
    },
    {
     "data": {
      "image/png": "[encoded data removed]",
      "text/plain": [
       "<Figure size 432x288 with 1 Axes>"
      ]
     },
     "metadata": {
      "needs_background": "light"
     },
     "output_type": "display_data"
    }
   ],
   "source": [
    "dfx.PCC_PHY_Thruput_DL.plot(kind = 'hist', bins = 50)"
   ]
  },
  {
   "cell_type": "markdown",
   "id": "91e30d0f-25e1-4af8-9c9f-6147ad4fb515",
   "metadata": {},
   "source": [
    "### There is a linear relationship between the RSSI and RSRP. <br>Hence we can remove the RSSI. <br>This will make our like much easier as we have one less variable to consider"
   ]
  },
  {
   "cell_type": "code",
   "execution_count": 17,
   "id": "bea5a99c-6a80-4365-9719-02b9dec58a14",
   "metadata": {},
   "outputs": [
    {
     "data": {
      "text/html": [
       "<div>\n",
       "<style scoped>\n",
       "    .dataframe tbody tr th:only-of-type {\n",
       "        vertical-align: middle;\n",
       "    }\n",
       "\n",
       "    .dataframe tbody tr th {\n",
       "        vertical-align: top;\n",
       "    }\n",
       "\n",
       "    .dataframe thead th {\n",
       "        text-align: right;\n",
       "    }\n",
       "</style>\n",
       "<table border=\"1\" class=\"dataframe\">\n",
       "  <thead>\n",
       "    <tr style=\"text-align: right;\">\n",
       "      <th></th>\n",
       "      <th>RSRP</th>\n",
       "      <th>RSRQ</th>\n",
       "      <th>PCC_SINR</th>\n",
       "      <th>PCC_PHY_Thruput_DL</th>\n",
       "    </tr>\n",
       "  </thead>\n",
       "  <tbody>\n",
       "    <tr>\n",
       "      <th>0</th>\n",
       "      <td>0</td>\n",
       "      <td>0</td>\n",
       "      <td>2</td>\n",
       "      <td>1</td>\n",
       "    </tr>\n",
       "    <tr>\n",
       "      <th>1</th>\n",
       "      <td>0</td>\n",
       "      <td>1</td>\n",
       "      <td>2</td>\n",
       "      <td>1</td>\n",
       "    </tr>\n",
       "    <tr>\n",
       "      <th>2</th>\n",
       "      <td>0</td>\n",
       "      <td>1</td>\n",
       "      <td>2</td>\n",
       "      <td>2</td>\n",
       "    </tr>\n",
       "    <tr>\n",
       "      <th>3</th>\n",
       "      <td>0</td>\n",
       "      <td>0</td>\n",
       "      <td>2</td>\n",
       "      <td>1</td>\n",
       "    </tr>\n",
       "    <tr>\n",
       "      <th>4</th>\n",
       "      <td>0</td>\n",
       "      <td>1</td>\n",
       "      <td>2</td>\n",
       "      <td>1</td>\n",
       "    </tr>\n",
       "    <tr>\n",
       "      <th>...</th>\n",
       "      <td>...</td>\n",
       "      <td>...</td>\n",
       "      <td>...</td>\n",
       "      <td>...</td>\n",
       "    </tr>\n",
       "    <tr>\n",
       "      <th>1265</th>\n",
       "      <td>1</td>\n",
       "      <td>0</td>\n",
       "      <td>2</td>\n",
       "      <td>0</td>\n",
       "    </tr>\n",
       "    <tr>\n",
       "      <th>1266</th>\n",
       "      <td>2</td>\n",
       "      <td>0</td>\n",
       "      <td>2</td>\n",
       "      <td>1</td>\n",
       "    </tr>\n",
       "    <tr>\n",
       "      <th>1267</th>\n",
       "      <td>1</td>\n",
       "      <td>0</td>\n",
       "      <td>2</td>\n",
       "      <td>0</td>\n",
       "    </tr>\n",
       "    <tr>\n",
       "      <th>1268</th>\n",
       "      <td>2</td>\n",
       "      <td>0</td>\n",
       "      <td>2</td>\n",
       "      <td>1</td>\n",
       "    </tr>\n",
       "    <tr>\n",
       "      <th>1269</th>\n",
       "      <td>1</td>\n",
       "      <td>0</td>\n",
       "      <td>2</td>\n",
       "      <td>1</td>\n",
       "    </tr>\n",
       "  </tbody>\n",
       "</table>\n",
       "<p>1269 rows × 4 columns</p>\n",
       "</div>"
      ],
      "text/plain": [
       "      RSRP  RSRQ  PCC_SINR  PCC_PHY_Thruput_DL\n",
       "0        0     0         2                   1\n",
       "1        0     1         2                   1\n",
       "2        0     1         2                   2\n",
       "3        0     0         2                   1\n",
       "4        0     1         2                   1\n",
       "...    ...   ...       ...                 ...\n",
       "1265     1     0         2                   0\n",
       "1266     2     0         2                   1\n",
       "1267     1     0         2                   0\n",
       "1268     2     0         2                   1\n",
       "1269     1     0         2                   1\n",
       "\n",
       "[1269 rows x 4 columns]"
      ]
     },
     "execution_count": 17,
     "metadata": {},
     "output_type": "execute_result"
    }
   ],
   "source": [
    "df = dfx.copy()\n",
    "df.drop(columns=['RSSI'], inplace = True)\n",
    "\n",
    "# 0: Excellent, 1: Good, 2: Mid-cell, 3: Cell Edge\n",
    "df['RSRP'] = np.where(df['RSRP'] >= -80, 0, df['RSRP'])\n",
    "df['RSRP'] = np.where((df['RSRP'] < -80) & (df['RSRP'] >= -90), 1, df['RSRP'])\n",
    "df['RSRP'] = np.where((df['RSRP'] < -90) & (df['RSRP'] >= -100), 2, df['RSRP'])\n",
    "df['RSRP'] = np.where(df['RSRP'] <= -100 , 3, df['RSRP'])\n",
    "\n",
    "df['RSRQ'] = np.where(df['RSRQ'] >= -10, 0, df['RSRQ'])\n",
    "df['RSRQ'] = np.where((df['RSRQ'] < -10) & (df['RSRQ'] >= -15), 1, df['RSRQ'])\n",
    "df['RSRQ'] = np.where((df['RSRQ'] < -15) & (df['RSRQ'] >= -20), 2, df['RSRQ'])\n",
    "df['RSRQ'] = np.where(df['RSRQ'] < -20 , 3, df['RSRQ'])\n",
    "\n",
    "df['PCC_SINR'] = np.where(df['PCC_SINR'] >= 20, 0, df['PCC_SINR'])\n",
    "df['PCC_SINR'] = np.where((df['PCC_SINR'] < 20) & (df['PCC_SINR'] > 13), 1, df['PCC_SINR'])\n",
    "df['PCC_SINR'] = np.where((df['PCC_SINR'] > 0) & (df['PCC_SINR'] <= 13), 2, df['PCC_SINR'])\n",
    "df['PCC_SINR'] = np.where(df['PCC_SINR'] < 0 , 3, df['PCC_SINR'])\n",
    "\n",
    "df['PCC_PHY_Thruput_DL'] = np.where(df['PCC_PHY_Thruput_DL'] < 300 , 3, df['PCC_PHY_Thruput_DL'])\n",
    "df['PCC_PHY_Thruput_DL'] = np.where((df['PCC_PHY_Thruput_DL'] < 5000) & (df['PCC_PHY_Thruput_DL'] >= 300), 2, df['PCC_PHY_Thruput_DL'])\n",
    "df['PCC_PHY_Thruput_DL'] = np.where((df['PCC_PHY_Thruput_DL'] < 10000) & (df['PCC_PHY_Thruput_DL'] > 5000), 1, df['PCC_PHY_Thruput_DL'])\n",
    "df['PCC_PHY_Thruput_DL'] = np.where(df['PCC_PHY_Thruput_DL'] >= 10000, 0, df['PCC_PHY_Thruput_DL'])\n",
    "\n",
    "df['PCC_PHY_Thruput_DL'] = df['PCC_PHY_Thruput_DL'].astype(int)\n",
    "df['RSRP'] = df['RSRP'].astype(int)\n",
    "df['RSRQ'] = df['RSRQ'].astype(int)\n",
    "df['PCC_SINR'] = df['PCC_SINR'].astype(int)\n",
    "\n",
    "df.drop(columns='N_RBs', inplace = True)\n",
    "df"
   ]
  },
  {
   "cell_type": "code",
   "execution_count": 18,
   "id": "e4f9e390-38e9-4dac-8c6b-3fd2dcffa034",
   "metadata": {},
   "outputs": [
    {
     "data": {
      "text/plain": [
       "<AxesSubplot:>"
      ]
     },
     "execution_count": 18,
     "metadata": {},
     "output_type": "execute_result"
    },
    {
     "data": {
      "image/png": "[encoded data removed]",
      "text/plain": [
       "<Figure size 432x288 with 1 Axes>"
      ]
     },
     "metadata": {
      "needs_background": "light"
     },
     "output_type": "display_data"
    }
   ],
   "source": [
    "df.PCC_PHY_Thruput_DL.hist()"
   ]
  },
  {
   "cell_type": "code",
   "execution_count": 20,
   "id": "89ce3484-9438-49a3-af8f-5186ac47613e",
   "metadata": {},
   "outputs": [
    {
     "data": {
      "text/html": [
       "<div>\n",
       "<style scoped>\n",
       "    .dataframe tbody tr th:only-of-type {\n",
       "        vertical-align: middle;\n",
       "    }\n",
       "\n",
       "    .dataframe tbody tr th {\n",
       "        vertical-align: top;\n",
       "    }\n",
       "\n",
       "    .dataframe thead th {\n",
       "        text-align: right;\n",
       "    }\n",
       "</style>\n",
       "<table border=\"1\" class=\"dataframe\">\n",
       "  <thead>\n",
       "    <tr style=\"text-align: right;\">\n",
       "      <th></th>\n",
       "      <th>RSRP</th>\n",
       "      <th>RSRQ</th>\n",
       "      <th>PCC_SINR</th>\n",
       "      <th>PCC_PHY_Thruput_DL</th>\n",
       "    </tr>\n",
       "  </thead>\n",
       "  <tbody>\n",
       "    <tr>\n",
       "      <th>0</th>\n",
       "      <td>0</td>\n",
       "      <td>0</td>\n",
       "      <td>2</td>\n",
       "      <td>1</td>\n",
       "    </tr>\n",
       "    <tr>\n",
       "      <th>1</th>\n",
       "      <td>0</td>\n",
       "      <td>1</td>\n",
       "      <td>2</td>\n",
       "      <td>1</td>\n",
       "    </tr>\n",
       "  </tbody>\n",
       "</table>\n",
       "</div>"
      ],
      "text/plain": [
       "   RSRP  RSRQ  PCC_SINR  PCC_PHY_Thruput_DL\n",
       "0     0     0         2                   1\n",
       "1     0     1         2                   1"
      ]
     },
     "execution_count": 20,
     "metadata": {},
     "output_type": "execute_result"
    }
   ],
   "source": [
    "df.head(2)"
   ]
  },
  {
   "cell_type": "code",
   "execution_count": 28,
   "id": "05f5d39b-5557-40aa-aa25-12a52349aa17",
   "metadata": {},
   "outputs": [
    {
     "data": {
      "image/png": "[encoded data removed]",
      "text/plain": [
       "<Figure size 432x432 with 3 Axes>"
      ]
     },
     "metadata": {
      "needs_background": "light"
     },
     "output_type": "display_data"
    }
   ],
   "source": [
    "_ = sns.jointplot(x = 'PCC_SINR', y ='PCC_PHY_Thruput_DL', data = df)"
   ]
  }
 ],
 "metadata": {
  "kernelspec": {
   "display_name": "Python 3 (ipykernel)",
   "language": "python",
   "name": "python3"
  },
  "language_info": {
   "codemirror_mode": {
    "name": "ipython",
    "version": 3
   },
   "file_extension": ".py",
   "mimetype": "text/x-python",
   "name": "python",
   "nbconvert_exporter": "python",
   "pygments_lexer": "ipython3",
   "version": "3.9.5"
  }
 },
 "nbformat": 4,
 "nbformat_minor": 5
}
