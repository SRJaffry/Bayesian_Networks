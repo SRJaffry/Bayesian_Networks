{
 "cells": [
  {
   "cell_type": "code",
   "execution_count": null,
   "id": "f4308574-a96b-4f4d-8a5f-5709f9aff0c2",
   "metadata": {},
   "outputs": [],
   "source": [
    "from sdv import load_demo\n",
    "\n",
    "metadata, tables = load_demo('SalesDB_v1',metadata=True)\n",
    "\n",
    "metadata.visualize()"
   ]
  }
 ],
 "metadata": {
  "kernelspec": {
   "display_name": "Python 3 (ipykernel)",
   "language": "python",
   "name": "python3"
  },
  "language_info": {
   "codemirror_mode": {
    "name": "ipython",
    "version": 3
   },
   "file_extension": ".py",
   "mimetype": "text/x-python",
   "name": "python",
   "nbconvert_exporter": "python",
   "pygments_lexer": "ipython3",
   "version": "3.9.5"
  }
 },
 "nbformat": 4,
 "nbformat_minor": 5
}
