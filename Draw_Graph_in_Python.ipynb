{
 "cells": [
  {
   "cell_type": "code",
   "execution_count": 13,
   "id": "72794843-4713-4024-9e86-d6893ab37923",
   "metadata": {},
   "outputs": [],
   "source": [
    "# https://stackoverflow.com/questions/20133479/how-to-draw-directed-graphs-using-networkx-in-python"
   ]
  },
  {
   "cell_type": "code",
   "execution_count": 1,
   "id": "f029ba28-e9b1-4d79-8242-0dbc60c3c11c",
   "metadata": {},
   "outputs": [],
   "source": [
    "import networkx as nx\n",
    "import matplotlib.pyplot as plt"
   ]
  },
  {
   "cell_type": "code",
   "execution_count": 7,
   "id": "50d6c53b-7f6c-4e00-8a39-ca0c689f28ad",
   "metadata": {},
   "outputs": [
    {
     "data": {
      "image/png": "[encoded data removed]",
      "text/plain": [
       "<Figure size 432x288 with 1 Axes>"
      ]
     },
     "metadata": {},
     "output_type": "display_data"
    }
   ],
   "source": [
    "G = nx.DiGraph()\n",
    "G.add_edges_from(\n",
    "    [('A', 'B'), ('A', 'C'), ('D', 'B')])\n",
    "\n",
    "val_map = {'A': 1.0,\n",
    "           'D': 0.5714285714285714           }\n",
    "\n",
    "values = [val_map.get(node, 0.25) for node in G.nodes()]\n",
    "\n",
    "# Specify the edges you want here\n",
    "red_edges = [('A', 'C'), ('B', 'C')]\n",
    "edge_colours = ['black' if not edge in red_edges else 'red'\n",
    "                for edge in G.edges()]\n",
    "black_edges = [edge for edge in G.edges() if edge not in red_edges]\n",
    "\n",
    "# Need to create a layout when doing\n",
    "# separate calls to draw nodes and edges\n",
    "pos = nx.spring_layout(G)\n",
    "nx.draw_networkx_nodes(G, pos, cmap=plt.get_cmap('jet'), \n",
    "                       node_color = values, node_size = 500)\n",
    "nx.draw_networkx_labels(G, pos)\n",
    "nx.draw_networkx_edges(G, pos, edgelist=red_edges, edge_color='r', arrows=True)\n",
    "nx.draw_networkx_edges(G, pos, edgelist=black_edges, arrows=False)\n",
    "plt.show()"
   ]
  },
  {
   "cell_type": "code",
   "execution_count": 12,
   "id": "15a74c97-5263-4792-9871-6a72a87d9cab",
   "metadata": {},
   "outputs": [
    {
     "data": {
      "text/plain": [
       "\u001b[1;31mSignature:\u001b[0m \u001b[0mG\u001b[0m\u001b[1;33m.\u001b[0m\u001b[0madd_node\u001b[0m\u001b[1;33m(\u001b[0m\u001b[0mnode_for_adding\u001b[0m\u001b[1;33m,\u001b[0m \u001b[1;33m**\u001b[0m\u001b[0mattr\u001b[0m\u001b[1;33m)\u001b[0m\u001b[1;33m\u001b[0m\u001b[1;33m\u001b[0m\u001b[0m\n",
       "\u001b[1;31mDocstring:\u001b[0m\n",
       "Add a single node `node_for_adding` and update node attributes.\n",
       "\n",
       "Parameters\n",
       "----------\n",
       "node_for_adding : node\n",
       "    A node can be any hashable Python object except None.\n",
       "attr : keyword arguments, optional\n",
       "    Set or change node attributes using key=value.\n",
       "\n",
       "See Also\n",
       "--------\n",
       "add_nodes_from\n",
       "\n",
       "Examples\n",
       "--------\n",
       ">>> G = nx.Graph()  # or DiGraph, MultiGraph, MultiDiGraph, etc\n",
       ">>> G.add_node(1)\n",
       ">>> G.add_node(\"Hello\")\n",
       ">>> K3 = nx.Graph([(0, 1), (1, 2), (2, 0)])\n",
       ">>> G.add_node(K3)\n",
       ">>> G.number_of_nodes()\n",
       "3\n",
       "\n",
       "Use keywords set/change node attributes:\n",
       "\n",
       ">>> G.add_node(1, size=10)\n",
       ">>> G.add_node(3, weight=0.4, UTM=(\"13S\", 382871, 3972649))\n",
       "\n",
       "Notes\n",
       "-----\n",
       "A hashable object is one that can be used as a key in a Python\n",
       "dictionary. This includes strings, numbers, tuples of strings\n",
       "and numbers, etc.\n",
       "\n",
       "On many platforms hashable items also include mutables such as\n",
       "NetworkX Graphs, though one should be careful that the hash\n",
       "doesn't change on mutables.\n",
       "\u001b[1;31mFile:\u001b[0m      c:\\users\\shan_jaffry\\miniconda3\\envs\\xai2\\lib\\site-packages\\networkx\\classes\\digraph.py\n",
       "\u001b[1;31mType:\u001b[0m      method\n"
      ]
     },
     "metadata": {},
     "output_type": "display_data"
    }
   ],
   "source": [
    "G.add_node?"
   ]
  },
  {
   "cell_type": "code",
   "execution_count": 11,
   "id": "cd463063-233c-4fc1-a379-ad0eef6aecd3",
   "metadata": {},
   "outputs": [
    {
     "name": "stdout",
     "output_type": "stream",
     "text": [
      "['A', 'B', 'C', 'D']\n",
      "[('A', 'B'), ('A', 'C'), ('B', 'C'), ('C', 'D')]\n"
     ]
    },
    {
     "data": {
      "image/png": "[encoded data removed]",
      "text/plain": [
       "<Figure size 432x288 with 1 Axes>"
      ]
     },
     "metadata": {},
     "output_type": "display_data"
    }
   ],
   "source": [
    "import networkx as nx\n",
    "import matplotlib.pyplot as plt\n",
    "\n",
    "G = nx.DiGraph()\n",
    "G.add_node(\"A\")\n",
    "G.add_node(\"B\")\n",
    "G.add_node(\"C\")\n",
    "G.add_node(\"D\") \n",
    "G.add_edge(\"A\",\"B\")\n",
    "G.add_edge(\"A\",\"C\")\n",
    "G.add_edge(\"B\",\"C\")\n",
    "G.add_edge(\"C\",\"D\")\n",
    "\n",
    "print(G.nodes())\n",
    "print(G.edges())\n",
    "\n",
    "\n",
    "pos = nx.spring_layout(G)\n",
    "\n",
    "nx.draw_networkx_nodes(G, pos)\n",
    "nx.draw_networkx_labels(G, pos)\n",
    "nx.draw_networkx_edges(G, pos, edge_color='r', arrows = True)\n",
    "\n",
    "plt.show()"
   ]
  }
 ],
 "metadata": {
  "kernelspec": {
   "display_name": "Python 3 (ipykernel)",
   "language": "python",
   "name": "python3"
  },
  "language_info": {
   "codemirror_mode": {
    "name": "ipython",
    "version": 3
   },
   "file_extension": ".py",
   "mimetype": "text/x-python",
   "name": "python",
   "nbconvert_exporter": "python",
   "pygments_lexer": "ipython3",
   "version": "3.9.5"
  }
 },
 "nbformat": 4,
 "nbformat_minor": 5
}
