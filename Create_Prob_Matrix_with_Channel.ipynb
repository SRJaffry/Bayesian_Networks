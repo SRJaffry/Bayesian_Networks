{
 "cells": [
  {
   "cell_type": "code",
   "execution_count": 1,
   "id": "5847917e-ed9b-4ab1-b7c9-d822cc834933",
   "metadata": {
    "tags": []
   },
   "outputs": [],
   "source": [
    "import statsmodels.formula.api as smf\n",
    "import pandas as pd\n",
    "import numpy as np\n",
    "\n",
    "%matplotlib inline\n",
    "import matplotlib.pyplot as plt\n",
    "from matplotlib.pyplot import figure\n",
    "import seaborn as sns\n",
    "\n",
    "from utils import *"
   ]
  },
  {
   "attachments": {
    "8c90b83f-03df-4ebb-a8d0-89777ce944b0.png": {
     "image/png": "[encoded data removed]"
    }
   },
   "cell_type": "markdown",
   "id": "a0cc75cc-f698-4aa6-8d17-af544acb7c63",
   "metadata": {
    "tags": []
   },
   "source": [
    "# Trying to segmentize RSRP RSSI, RSRQ based on channel conditions.\n",
    "In the part above, we segmentize using pd.cut(). But in the following, there are some RF-rules based on which awe segmentize the RSRP,RSRQ and SINR.\n",
    "\n",
    "![image.png](attachment:8c90b83f-03df-4ebb-a8d0-89777ce944b0.png)\n",
    "\n",
    "### N_RBs = RSRQ*RSSI/RSRP"
   ]
  },
  {
   "cell_type": "code",
   "execution_count": 2,
   "id": "2321a41c-f387-4000-a6a0-7a17a4bbb4a8",
   "metadata": {},
   "outputs": [
    {
     "data": {
      "text/html": [
       "<div>\n",
       "<style scoped>\n",
       "    .dataframe tbody tr th:only-of-type {\n",
       "        vertical-align: middle;\n",
       "    }\n",
       "\n",
       "    .dataframe tbody tr th {\n",
       "        vertical-align: top;\n",
       "    }\n",
       "\n",
       "    .dataframe thead th {\n",
       "        text-align: right;\n",
       "    }\n",
       "</style>\n",
       "<table border=\"1\" class=\"dataframe\">\n",
       "  <thead>\n",
       "    <tr style=\"text-align: right;\">\n",
       "      <th></th>\n",
       "      <th>N_RBs</th>\n",
       "      <th>RSRP</th>\n",
       "      <th>RSRQ</th>\n",
       "      <th>RSSI</th>\n",
       "      <th>PCC_SINR</th>\n",
       "      <th>PCC_PHY_Thruput_DL</th>\n",
       "    </tr>\n",
       "  </thead>\n",
       "  <tbody>\n",
       "    <tr>\n",
       "      <th>0</th>\n",
       "      <td>15</td>\n",
       "      <td>-70.77</td>\n",
       "      <td>-8.66</td>\n",
       "      <td>-48.02</td>\n",
       "      <td>7.83</td>\n",
       "      <td>8737.41</td>\n",
       "    </tr>\n",
       "    <tr>\n",
       "      <th>1</th>\n",
       "      <td>15</td>\n",
       "      <td>-72.40</td>\n",
       "      <td>-10.56</td>\n",
       "      <td>-47.17</td>\n",
       "      <td>4.95</td>\n",
       "      <td>6969.09</td>\n",
       "    </tr>\n",
       "    <tr>\n",
       "      <th>2</th>\n",
       "      <td>15</td>\n",
       "      <td>-71.32</td>\n",
       "      <td>-10.13</td>\n",
       "      <td>-47.11</td>\n",
       "      <td>5.65</td>\n",
       "      <td>3874.06</td>\n",
       "    </tr>\n",
       "    <tr>\n",
       "      <th>3</th>\n",
       "      <td>15</td>\n",
       "      <td>-69.92</td>\n",
       "      <td>-9.62</td>\n",
       "      <td>-46.18</td>\n",
       "      <td>6.95</td>\n",
       "      <td>5575.82</td>\n",
       "    </tr>\n",
       "    <tr>\n",
       "      <th>4</th>\n",
       "      <td>15</td>\n",
       "      <td>-72.43</td>\n",
       "      <td>-10.30</td>\n",
       "      <td>-47.74</td>\n",
       "      <td>4.28</td>\n",
       "      <td>6114.99</td>\n",
       "    </tr>\n",
       "  </tbody>\n",
       "</table>\n",
       "</div>"
      ],
      "text/plain": [
       "   N_RBs   RSRP   RSRQ   RSSI  PCC_SINR  PCC_PHY_Thruput_DL\n",
       "0     15 -70.77  -8.66 -48.02      7.83             8737.41\n",
       "1     15 -72.40 -10.56 -47.17      4.95             6969.09\n",
       "2     15 -71.32 -10.13 -47.11      5.65             3874.06\n",
       "3     15 -69.92  -9.62 -46.18      6.95             5575.82\n",
       "4     15 -72.43 -10.30 -47.74      4.28             6114.99"
      ]
     },
     "execution_count": 2,
     "metadata": {},
     "output_type": "execute_result"
    }
   ],
   "source": [
    "# path = 'ns3NewData_/kpis_rand_maxbuff2500_01ms_ISD150_0speed_NewPL_20UEs.csv'\n",
    "path = 'real_world_data/data_ready_ML.csv'\n",
    "dfx = pd.read_csv(path).dropna()\n",
    "dfx.drop(columns='PDCP_Thruput_DL', inplace =True)\n",
    "\n",
    "# N = RSRQ*RSSI/RSRP => RSRQ+RSSI - RSRP\n",
    "N = np.ceil(dfx['RSRQ']+dfx['RSSI']-dfx['RSRP']).astype(int)\n",
    "dfx.insert(0, 'N_RBs', N)\n",
    "\n",
    "# RSSI_new = dfx.RSRP - dfx.RSRQ # Removing the number of RBs. \n",
    "# dfx.insert(4, 'RSSI_new', RSSI_new)\n",
    "\n",
    "dfx.head()"
   ]
  },
  {
   "cell_type": "code",
   "execution_count": null,
   "id": "df3c3ed8-9816-4d32-9930-158ed2e6feb8",
   "metadata": {},
   "outputs": [],
   "source": [
    "dfx.plot(x = 'RSRP', y = 'RSSI', kind = 'scatter')"
   ]
  },
  {
   "cell_type": "code",
   "execution_count": null,
   "id": "46684771-d866-45a0-b83a-e7325d6801f3",
   "metadata": {},
   "outputs": [],
   "source": [
    "dfx.PCC_PHY_Thruput_DL.plot(kind = 'hist', bins = 50)"
   ]
  },
  {
   "cell_type": "markdown",
   "id": "91e30d0f-25e1-4af8-9c9f-6147ad4fb515",
   "metadata": {},
   "source": [
    "### There is a linear relationship between the RSSI and RSRP. <br>Hence we can remove the RSSI. <br>This will make our like much easier as we have one less variable to consider"
   ]
  },
  {
   "cell_type": "code",
   "execution_count": 5,
   "id": "bea5a99c-6a80-4365-9719-02b9dec58a14",
   "metadata": {
    "tags": []
   },
   "outputs": [
    {
     "name": "stdout",
     "output_type": "stream",
     "text": [
      "printing : RSRP ... \n",
      "RSRP is 0 => P() is 0.136327817178881\n",
      "RSRP is 1 => P() is 0.21749408983451538\n",
      "RSRP is 2 => P() is 0.512214342001576\n",
      "RSRP is 3 => P() is 0.13396375098502758\n",
      "--------------\n",
      "printing : RSRQ ... \n",
      "RSRQ is 0 => P() is 0.8274231678486997\n",
      "RSRQ is 1 => P() is 0.12529550827423167\n",
      "RSRQ is 2 => P() is 0.04491725768321513\n",
      "RSRQ is 3 => P() is 0.002364066193853428\n",
      "--------------\n",
      "printing : PCC_SINR ... \n",
      "PCC_SINR is 0 => P() is 0.0252167060677699\n",
      "PCC_SINR is 2 => P() is 0.8810086682427108\n",
      "PCC_SINR is 3 => P() is 0.0937746256895193\n",
      "--------------\n",
      "printing : PCC_PHY_Thruput_DL ... \n",
      "PCC_PHY_Thruput_DL is 0 => P() is 0.15760441292356187\n",
      "PCC_PHY_Thruput_DL is 1 => P() is 0.5130023640661938\n",
      "PCC_PHY_Thruput_DL is 2 => P() is 0.30575256107171\n",
      "PCC_PHY_Thruput_DL is 3 => P() is 0.02364066193853428\n",
      "--------------\n"
     ]
    },
    {
     "data": {
      "text/html": [
       "<div>\n",
       "<style scoped>\n",
       "    .dataframe tbody tr th:only-of-type {\n",
       "        vertical-align: middle;\n",
       "    }\n",
       "\n",
       "    .dataframe tbody tr th {\n",
       "        vertical-align: top;\n",
       "    }\n",
       "\n",
       "    .dataframe thead th {\n",
       "        text-align: right;\n",
       "    }\n",
       "</style>\n",
       "<table border=\"1\" class=\"dataframe\">\n",
       "  <thead>\n",
       "    <tr style=\"text-align: right;\">\n",
       "      <th></th>\n",
       "      <th>P(PCC_PHY_Thruput_DL = x)</th>\n",
       "      <th>P(PCC_SINR = x)</th>\n",
       "      <th>P(RSRQ = x)</th>\n",
       "      <th>P(RSRP = x)</th>\n",
       "    </tr>\n",
       "  </thead>\n",
       "  <tbody>\n",
       "    <tr>\n",
       "      <th>0</th>\n",
       "      <td>0.157604</td>\n",
       "      <td>0.025217</td>\n",
       "      <td>0.827423</td>\n",
       "      <td>0.136328</td>\n",
       "    </tr>\n",
       "    <tr>\n",
       "      <th>1</th>\n",
       "      <td>0.513002</td>\n",
       "      <td>0.000000</td>\n",
       "      <td>0.125296</td>\n",
       "      <td>0.217494</td>\n",
       "    </tr>\n",
       "    <tr>\n",
       "      <th>2</th>\n",
       "      <td>0.305753</td>\n",
       "      <td>0.881009</td>\n",
       "      <td>0.044917</td>\n",
       "      <td>0.512214</td>\n",
       "    </tr>\n",
       "    <tr>\n",
       "      <th>3</th>\n",
       "      <td>0.023641</td>\n",
       "      <td>0.093775</td>\n",
       "      <td>0.002364</td>\n",
       "      <td>0.133964</td>\n",
       "    </tr>\n",
       "  </tbody>\n",
       "</table>\n",
       "</div>"
      ],
      "text/plain": [
       "   P(PCC_PHY_Thruput_DL = x)  P(PCC_SINR = x)  P(RSRQ = x)  P(RSRP = x)\n",
       "0                   0.157604         0.025217     0.827423     0.136328\n",
       "1                   0.513002         0.000000     0.125296     0.217494\n",
       "2                   0.305753         0.881009     0.044917     0.512214\n",
       "3                   0.023641         0.093775     0.002364     0.133964"
      ]
     },
     "execution_count": 5,
     "metadata": {},
     "output_type": "execute_result"
    }
   ],
   "source": [
    "\n",
    "\n",
    "\n",
    "df_binned = dfx.copy()\n",
    "\n",
    "# 0: Excellent, 1: Good, 2: Mid-cell, 3: Cell Edge\n",
    "df_binned['RSRP'] = np.where(df_binned['RSRP'] >= -80, 0, df_binned['RSRP'])\n",
    "df_binned['RSRP'] = np.where((df_binned['RSRP'] < -80) & (df_binned['RSRP'] >= -90), 1, df_binned['RSRP'])\n",
    "df_binned['RSRP'] = np.where((df_binned['RSRP'] < -90) & (df_binned['RSRP'] >= -100), 2, df_binned['RSRP'])\n",
    "df_binned['RSRP'] = np.where(df_binned['RSRP'] <= -100 , 3, df_binned['RSRP'])\n",
    "\n",
    "df_binned['RSRQ'] = np.where(df_binned['RSRQ'] >= -10, 0, df_binned['RSRQ'])\n",
    "df_binned['RSRQ'] = np.where((df_binned['RSRQ'] < -10) & (df_binned['RSRQ'] >= -15), 1, df_binned['RSRQ'])\n",
    "df_binned['RSRQ'] = np.where((df_binned['RSRQ'] < -15) & (df_binned['RSRQ'] >= -20), 2, df_binned['RSRQ'])\n",
    "df_binned['RSRQ'] = np.where(df_binned['RSRQ'] < -20 , 3, df_binned['RSRQ'])\n",
    "\n",
    "df_binned['PCC_SINR'] = np.where(df_binned['PCC_SINR'] >= 20, 0, df_binned['PCC_SINR'])\n",
    "df_binned['PCC_SINR'] = np.where((df_binned['PCC_SINR'] < 20) & (df_binned['PCC_SINR'] > 13), 1, df_binned['PCC_SINR'])\n",
    "df_binned['PCC_SINR'] = np.where((df_binned['PCC_SINR'] > 0) & (df_binned['PCC_SINR'] <= 13), 2, df_binned['PCC_SINR'])\n",
    "df_binned['PCC_SINR'] = np.where(df_binned['PCC_SINR'] < 0 , 3, df_binned['PCC_SINR'])\n",
    "\n",
    "df_binned['PCC_PHY_Thruput_DL'] = np.where(df_binned['PCC_PHY_Thruput_DL'] < 300 , 3, df_binned['PCC_PHY_Thruput_DL'])\n",
    "df_binned['PCC_PHY_Thruput_DL'] = np.where((df_binned['PCC_PHY_Thruput_DL'] < 5000) & (df_binned['PCC_PHY_Thruput_DL'] >= 300), 2, df_binned['PCC_PHY_Thruput_DL'])\n",
    "df_binned['PCC_PHY_Thruput_DL'] = np.where((df_binned['PCC_PHY_Thruput_DL'] < 10000) & (df_binned['PCC_PHY_Thruput_DL'] > 5000), 1, df_binned['PCC_PHY_Thruput_DL'])\n",
    "df_binned['PCC_PHY_Thruput_DL'] = np.where(df_binned['PCC_PHY_Thruput_DL'] >= 10000, 0, df_binned['PCC_PHY_Thruput_DL'])\n",
    "\n",
    "df_binned['PCC_PHY_Thruput_DL'] = df_binned['PCC_PHY_Thruput_DL'].astype(int)\n",
    "df_binned['RSRP'] = df_binned['RSRP'].astype(int)\n",
    "df_binned['RSRQ'] = df_binned['RSRQ'].astype(int)\n",
    "df_binned['PCC_SINR'] = df_binned['PCC_SINR'].astype(int)\n",
    "\n",
    "df_binned.drop(columns=['RSSI', 'N_RBs'], inplace = True)\n",
    "\n",
    "col_list = df_binned.columns\n",
    "\n",
    "df_prob = pd.DataFrame()\n",
    "for target_col in col_list:\n",
    "    \n",
    "    # vals = []\n",
    "    vals = np.zeros(max_binning(df_binned))\n",
    "    print('printing : {} ... '.format(target_col))\n",
    "    for i in sorted(df_binned[target_col].unique()):\n",
    "        Prob = len(df_binned[df_binned[target_col] == i])/len(df_binned)\n",
    "        # vals.append(Prob)        \n",
    "        vals[i] = len(df_binned[df_binned[target_col] == i])/len(df_binned)\n",
    "        print('{} is {} => P() is {}'.format(target_col, i, Prob))\n",
    "       \n",
    "    newcol_name = 'P(' + target_col + ' = x' + ')'\n",
    "    print('--------------')\n",
    "    \n",
    "    ser = pd.Series(vals)  \n",
    "    df_prob.insert(0, newcol_name, ser)\n",
    "\n",
    "df_prob.fillna(0, inplace = True)\n",
    "df_prob"
   ]
  },
  {
   "cell_type": "code",
   "execution_count": 6,
   "id": "35b05417-a04d-4adf-a6f6-63b49241dd26",
   "metadata": {},
   "outputs": [
    {
     "data": {
      "image/png": "[encoded data removed]",
      "text/plain": [
       "<Figure size 576x576 with 4 Axes>"
      ]
     },
     "metadata": {
      "needs_background": "light"
     },
     "output_type": "display_data"
    }
   ],
   "source": [
    "_ = df_binned.plot(subplots = True, kind = 'hist', figsize = (8,8))"
   ]
  },
  {
   "cell_type": "markdown",
   "id": "b0a1163a-eb3f-42b2-b3bc-473c369c147d",
   "metadata": {},
   "source": [
    "### Verficiation"
   ]
  },
  {
   "cell_type": "code",
   "execution_count": 7,
   "id": "e7fd30fc-7673-4926-aaac-e549245a8708",
   "metadata": {},
   "outputs": [
    {
     "name": "stdout",
     "output_type": "stream",
     "text": [
      "Sum for Col P(PCC_PHY_Thruput_DL = x) is : 1.0\n",
      "Sum for Col P(PCC_SINR = x) is : 1.0\n",
      "Sum for Col P(RSRQ = x) is : 0.9999999999999999\n",
      "Sum for Col P(RSRP = x) is : 1.0\n"
     ]
    }
   ],
   "source": [
    "for target_col in df_prob.columns:\n",
    "    print('Sum for Col {} is : {}'.format(target_col, df_prob[target_col].unique().sum()))"
   ]
  },
  {
   "cell_type": "code",
   "execution_count": null,
   "id": "af83c88a-41e9-4527-a493-77a3e3ba33cb",
   "metadata": {},
   "outputs": [],
   "source": [
    "np.zeros(5)"
   ]
  }
 ],
 "metadata": {
  "kernelspec": {
   "display_name": "Python 3 (ipykernel)",
   "language": "python",
   "name": "python3"
  },
  "language_info": {
   "codemirror_mode": {
    "name": "ipython",
    "version": 3
   },
   "file_extension": ".py",
   "mimetype": "text/x-python",
   "name": "python",
   "nbconvert_exporter": "python",
   "pygments_lexer": "ipython3",
   "version": "3.9.5"
  }
 },
 "nbformat": 4,
 "nbformat_minor": 5
}
